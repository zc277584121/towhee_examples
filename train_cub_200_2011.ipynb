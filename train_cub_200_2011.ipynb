{
 "cells": [
  {
   "cell_type": "markdown",
   "metadata": {
    "collapsed": true,
    "pycharm": {
     "name": "#%% md\n"
    }
   },
   "source": [
    "# Train CUB-200-2011 dataset using towhee"
   ]
  },
  {
   "cell_type": "markdown",
   "source": [
    "## 1.Prepare the dataset\n",
    "\n",
    "The **[Caltech-UCSD Birds-200-2011 (CUB-200-2011)](http://www.vision.caltech.edu/visipedia/CUB-200-2011.html)** dataset is the most widely-used dataset for fine-grained visual categorization task.\n",
    "* Number of categories: 200\n",
    "* Number of images: 11,788\n",
    "* Annotations per image: 15 Part Locations, 312 Binary Attributes, 1 Bounding Box\n",
    "\n",
    "And here is a [Benchmarks](https://paperswithcode.com/dataset/cub-200-2011) about this dataset you can refer to.\n",
    "First, you should download it to your local path from [Images and annotations](https://drive.google.com/file/d/1hbzc_P1FuxMkcabkgn9ZKinBwW683j45/view).\n",
    "When you downloaded it, you can see this structure.\n",
    "```\n",
    "├── 1.jpg\n",
    "├── 2.jpg\n",
    "├── 3.jpg\n",
    "├── README.md\n",
    "└── data\n",
    "    ├── CUB_200_2011.tgz\n",
    "    └── segmentations.tgz\n",
    "```\n",
    "Just extract `CUB_200_2011.tgz` and rename folder `images` to `images_orig`.\n",
    "\n",
    "    cd data\n",
    "    tar zxvf CUB_200_2011.tgz\n",
    "    cd CUB_200_2011\n",
    "    mv images images_orig\n",
    "    pwd\n",
    "\n",
    "```\n",
    "/path/to/your/dataset/Birds-200-2011/data/CUB_200_2011\n",
    "```\n",
    "**Use this path as your root_dir.**"
   ],
   "metadata": {
    "collapsed": false,
    "pycharm": {
     "name": "#%% md\n"
    }
   }
  },
  {
   "cell_type": "code",
   "execution_count": null,
   "outputs": [],
   "source": [
    "root_dir = '/path/to/your/dataset/Birds-200-2011/data/CUB_200_2011'\n",
    "# root_dir = '/home/zhangchen/zhangchen_workspace/dataset/caltech-ucsd-bird-200-2011/Caltech-UCSD Birds-200-2011/data/CUB_200_2011'"
   ],
   "metadata": {
    "collapsed": false,
    "pycharm": {
     "name": "#%%\n"
    }
   }
  },
  {
   "cell_type": "code",
   "execution_count": null,
   "outputs": [],
   "source": [
    "import os\n",
    "import pandas as pd\n",
    "\n",
    "orig_images_folder = 'images_orig'\n",
    "new_images_folder = 'images'"
   ],
   "metadata": {
    "collapsed": false,
    "pycharm": {
     "name": "#%%\n"
    }
   }
  },
  {
   "cell_type": "raw",
   "source": [],
   "metadata": {
    "collapsed": false,
    "pycharm": {
     "name": "#%% raw\n"
    }
   }
  }
 ],
 "metadata": {
  "kernelspec": {
   "display_name": "Python 3",
   "language": "python",
   "name": "python3"
  },
  "language_info": {
   "codemirror_mode": {
    "name": "ipython",
    "version": 2
   },
   "file_extension": ".py",
   "mimetype": "text/x-python",
   "name": "python",
   "nbconvert_exporter": "python",
   "pygments_lexer": "ipython2",
   "version": "2.7.6"
  }
 },
 "nbformat": 4,
 "nbformat_minor": 0
}